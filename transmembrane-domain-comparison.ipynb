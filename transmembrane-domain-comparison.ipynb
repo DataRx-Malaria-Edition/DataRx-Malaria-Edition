{
 "cells": [
  {
   "cell_type": "code",
   "execution_count": 20,
   "id": "e201442e-4fe4-444f-8f89-691fa4317467",
   "metadata": {},
   "outputs": [
    {
     "name": "stdout",
     "output_type": "stream",
     "text": [
      "2023-06-05 20:46:16,667 | INFO : Loaded project DTU/DeepTMHMM:1.0.24\n",
      "Opening authorization page at: https://biolib.com/sign-in/request/notebook/?token=1za86WTQbIi3nn8J\n",
      "If your browser does not open automatically, click on the link above.\n"
     ]
    },
    {
     "data": {
      "application/javascript": [],
      "text/plain": [
       "<IPython.core.display.Javascript object>"
      ]
     },
     "metadata": {},
     "output_type": "display_data"
    },
    {
     "name": "stdout",
     "output_type": "stream",
     "text": [
      "Successfully signed in!\n"
     ]
    }
   ],
   "source": [
    "!pip3 install -qU pybiolib\n",
    "import biolib\n",
    "import pandas as pd\n",
    "deeptmhmm = biolib.load('DTU/DeepTMHMM')\n",
    "biolib.login()\n"
   ]
  },
  {
   "cell_type": "code",
   "execution_count": 3,
   "id": "c5a42e85-30ba-4ee8-95bb-2d68402c9b2d",
   "metadata": {},
   "outputs": [
    {
     "name": "stdout",
     "output_type": "stream",
     "text": [
      "2023-06-05 18:16:43,664 | INFO : Job \"82df41eb-a3b0-4083-b253-c52750ab47c2\" is starting...\n",
      "2023-06-05 18:16:51,451 | INFO : Cloud: Initializing\n",
      "2023-06-05 18:16:51,452 | INFO : Cloud: Pulling images...\n",
      "2023-06-05 18:16:51,452 | INFO : Cloud: Computing...\n",
      "Traceback (most recent call last):\n",
      "  File \"predict.py\", line 41, in <module>\n",
      "    fasta_size = os.stat(args.fasta).st_size\n",
      "FileNotFoundError: [Errno 2] No such file or directory: 'query.fasta'\n",
      "2023-06-05 18:16:54,014 | INFO : Cloud: Computation finished\n",
      "2023-06-05 18:16:54,015 | INFO : Cloud: Result Ready\n"
     ]
    }
   ],
   "source": []
  },
  {
   "cell_type": "code",
   "execution_count": 5,
   "id": "8af34b4e-7312-442d-80ca-5c7ceff4ea25",
   "metadata": {},
   "outputs": [
    {
     "name": "stdout",
     "output_type": "stream",
     "text": [
      "2023-06-05 19:21:57,355 | INFO : Loaded project samtools/samtools:0.0.79\n",
      "0    EYILESGAVVLSDK\n",
      "Name: Peptide sequence, dtype: object\n",
      "2023-06-05 19:22:01,523 | INFO : Job \"f9e9327b-1345-46e5-aff8-68e9e9c26d63\" is starting...\n",
      "2023-06-05 19:22:10,928 | INFO : Cloud: Initializing\n",
      "2023-06-05 19:22:10,929 | INFO : Cloud: Downloading Source Files...\n",
      "2023-06-05 19:22:10,929 | INFO : Cloud: Pulling images...\n",
      "2023-06-05 19:22:10,929 | INFO : Cloud: Computing...\n",
      "[main] unrecognized command 'EYILESGAVVLSDK'\n",
      "2023-06-05 19:22:16,059 | INFO : Cloud: Computation finished\n",
      "2023-06-05 19:22:16,060 | INFO : Cloud: Result Ready\n",
      "[main] unrecognized command 'EYILESGAVVLSDK'\n",
      "\n",
      "done!\n"
     ]
    }
   ],
   "source": [
    "samtools = biolib.load('samtools/samtools')\n",
    "\n",
    "\n",
    "data = pd.read_excel('Malaria_Research_Data.xlsx', header=0)\n",
    "\n",
    "data = data['Peptide sequence'].head(1)\n",
    "\n",
    "print(data)\n",
    "\n",
    "results = []\n",
    "\n",
    "for peptide in data:\n",
    "    result = samtools.cli(peptide, blocking=True)\n",
    "    print(result.get_stdout().decode(\"utf-8\"))\n",
    "    results.append(result)\n",
    "\n",
    "# print(results[0].get_stdout().decode(\"utf-8\"))\n",
    "print(\"done!\")\n",
    "    "
   ]
  },
  {
   "cell_type": "code",
   "execution_count": 24,
   "id": "2db2eb9a-6f64-439d-be00-7feff97ee62f",
   "metadata": {},
   "outputs": [
    {
     "name": "stdout",
     "output_type": "stream",
     "text": [
      "2023-06-05 21:05:49,344 | INFO : Loaded project DTU/DeepTMHMM:1.0.24\n",
      "0       EYILESGAVVLSDK\n",
      "1    LMNIATFQSLIDPLSGR\n",
      "Name: Peptide sequence, dtype: object\n",
      "['fasta_files/query0.fasta', 'fasta_files/query1.fasta']\n",
      "2023-06-05 21:05:53,405 | INFO : Job \"992d729e-c73d-4294-abea-ec88379f11a6\" is starting...\n",
      "2023-06-05 21:06:04,905 | INFO : Cloud: Initializing\n",
      "2023-06-05 21:06:04,906 | INFO : Cloud: Pulling images...\n",
      "2023-06-05 21:06:04,907 | INFO : Cloud: Computing...\n",
      "Running DeepTMHMM on 1 sequence...\n",
      "Step 1/4 | Loading transformer model...\n",
      "\n",
      "Step 2/4 | Generating embeddings for sequences...\n",
      "Generating embeddings: 100% 1/1 [00:00<00:00, 35.12seq/s]\n",
      "\n",
      "Step 3/4 | Predicting topologies for sequences in batches of 1...\n",
      "Topology prediction: 100% 1/1 [00:00<00:00, 21.51seq/s]\n",
      "\n",
      "Step 4/4 | Generating output...\n",
      "2023-06-05 21:06:27,341 | INFO : Cloud: Computation finished\n",
      "2023-06-05 21:06:27,342 | INFO : Cloud: Result Ready\n",
      "2023-06-05 21:06:32,869 | INFO : Saving 5 files to transmembrane_results/peptide_row0...\n",
      "2023-06-05 21:06:33,577 | INFO :   - transmembrane_results/peptide_row0/TMRs.gff3\n",
      "2023-06-05 21:06:40,164 | INFO :   - transmembrane_results/peptide_row0/plot.png\n",
      "2023-06-05 21:06:41,224 | INFO :   - transmembrane_results/peptide_row0/predicted_topologies.3line\n",
      "2023-06-05 21:06:41,870 | INFO :   - transmembrane_results/peptide_row0/deeptmhmm_results.md\n",
      "2023-06-05 21:06:43,302 | INFO :   - transmembrane_results/peptide_row0/Unnamed_probs.csv\n",
      "2023-06-05 21:06:51,159 | INFO : Job \"3f2f1483-da17-47a0-903e-7eabf420c1df\" is starting...\n",
      "2023-06-05 21:07:08,949 | INFO : Cloud: Initializing\n",
      "2023-06-05 21:07:08,950 | INFO : Cloud: Pulling images...\n",
      "2023-06-05 21:07:08,951 | INFO : Cloud: Computing...\n",
      "Running DeepTMHMM on 1 sequence...\n",
      "Step 1/4 | Loading transformer model...\n",
      "\n",
      "Step 2/4 | Generating embeddings for sequences...\n",
      "Generating embeddings: 100% 1/1 [00:00<00:00, 35.91seq/s]\n",
      "\n",
      "Step 3/4 | Predicting topologies for sequences in batches of 1...\n",
      "Topology prediction: 100% 1/1 [00:00<00:00, 20.58seq/s]\n",
      "\n",
      "Step 4/4 | Generating output...\n",
      "2023-06-05 21:07:27,949 | INFO : Cloud: Computation finished\n",
      "2023-06-05 21:07:27,950 | INFO : Cloud: Result Ready\n",
      "2023-06-05 21:07:38,608 | INFO : Saving 5 files to transmembrane_results/peptide_row1...\n",
      "2023-06-05 21:07:39,296 | INFO :   - transmembrane_results/peptide_row1/TMRs.gff3\n",
      "2023-06-05 21:07:49,532 | INFO :   - transmembrane_results/peptide_row1/plot.png\n",
      "2023-06-05 21:07:50,829 | INFO :   - transmembrane_results/peptide_row1/predicted_topologies.3line\n",
      "2023-06-05 21:07:51,470 | INFO :   - transmembrane_results/peptide_row1/deeptmhmm_results.md\n",
      "2023-06-05 21:07:53,904 | INFO :   - transmembrane_results/peptide_row1/Unnamed_probs.csv\n",
      "done!\n"
     ]
    }
   ],
   "source": [
    "\n",
    "\n",
    "deeptmhmm = biolib.load('DTU/DeepTMHMM')\n",
    "\n",
    "\n",
    "def make_file(file_name, pep_seq):\n",
    "    with open(file_name, \"w\") as file:\n",
    "        file.write(pep_seq)\n",
    "\n",
    "def write_results(file_name, output):\n",
    "    with open(file_name, \"wb\") as file:\n",
    "        file.write(output)\n",
    "\n",
    "\n",
    "data = pd.read_excel('Malaria_Research_Data.xlsx', header=0)\n",
    "\n",
    "data = data['Peptide sequence'].head(2)\n",
    "\n",
    "print(data)\n",
    "\n",
    "results = []\n",
    "\n",
    "fasta_list = []\n",
    "\n",
    "index = 0\n",
    "for peptide in data:\n",
    "    \n",
    "    make_file(\"fasta_files/query\"+str(index)+\".fasta\", peptide)\n",
    "    fasta_list.append(\"fasta_files/query\"+str(index)+\".fasta\")\n",
    "    index+=1\n",
    "\n",
    "print(fasta_list)\n",
    "    \n",
    "index = 0\n",
    "with biolib.Experiment('TMHMM_analysis'):\n",
    "    for fasta_file in fasta_list:\n",
    "        result = deeptmhmm.cli(args='--fasta '+fasta_file)\n",
    "        #results.append(result)\n",
    "        result.save_files('transmembrane_results/peptide_row'+str(index))\n",
    "        index+=1\n",
    "\n",
    "\n",
    "'''\n",
    "index = 0\n",
    "for cloud_result in results:\n",
    "    file_name = \"transmembrane_results/\"+str(index)+\".txt\"\n",
    "    write_results(file_name, results[index].get_stdout())\n",
    "    cloud_result.save_files('transmembrane_results/peptide_row'+str(index))\n",
    "    index+=1\n",
    "'''    \n",
    "    \n",
    "'''\n",
    "print(results[0].get_stdout())\n",
    "print(results[1].get_stdout())\n",
    "'''\n",
    "\n",
    "print(\"done!\")"
   ]
  },
  {
   "cell_type": "code",
   "execution_count": 26,
   "id": "ee5d19ea-9ea0-4dc6-912a-a21dbc194eb7",
   "metadata": {},
   "outputs": [
    {
     "name": "stdout",
     "output_type": "stream",
     "text": [
      "2023-06-05 21:11:52,373 | INFO : Loaded project samtools/samtools:0.0.79\n",
      "0       EYILESGAVVLSDK\n",
      "1    LMNIATFQSLIDPLSGR\n",
      "Name: Peptide sequence, dtype: object\n",
      "['fasta_files/query0.fasta', 'fasta_files/query1.fasta']\n",
      "done!\n"
     ]
    }
   ],
   "source": [
    "samtools = biolib.load('samtools/samtools')\n",
    "\n",
    "def make_file(file_name, pep_seq):\n",
    "    with open(file_name, \"w\") as file:\n",
    "        file.write(pep_seq)\n",
    "\n",
    "def write_results(file_name, output):\n",
    "    with open(file_name, \"wb\") as file:\n",
    "        file.write(output)\n",
    "\n",
    "\n",
    "data = pd.read_excel('output.xlsx', header=0)\n",
    "\n",
    "data = data['Peptide sequence'].head(2)\n",
    "\n",
    "parse_limit = 50\n",
    "\n",
    "results = []\n",
    "fasta_list = []\n",
    "\n",
    "index = 0\n",
    "for peptide in data:    \n",
    "    make_file(\"fasta_files/query\"+str(index)+\".fasta\", peptide)\n",
    "    fasta_list.append(\"fasta_files/query\"+str(index)+\".fasta\")\n",
    "    index+=1\n",
    "\n",
    "\n",
    "parsed_list = []\n",
    "index = 0\n",
    "while index < len(data):\n",
    "    temp_list = []\n",
    "    j=0\n",
    "    while j < 50:\n",
    "        temp_list.append(fasta_list[index])\n",
    "        index+=1\n",
    "        j+=1\n",
    "    parsed_list.append(temp_list)\n",
    "    \n",
    "\n",
    "    \n",
    "index = 0\n",
    "with biolib.Experiment('TMHMM_analysis'):\n",
    "    for fasta_file in fasta_list:\n",
    "        result = samtools.cli(fasta_file, blocking=False)\n",
    "        results.append(result)\n",
    "        #result.save_files('transmembrane_results/peptide_row'+str(index))\n",
    "        index+=1\n",
    "\n",
    "\n",
    "'''\n",
    "index = 0\n",
    "for cloud_result in results:\n",
    "    file_name = \"transmembrane_results/\"+str(index)+\".txt\"\n",
    "    write_results(file_name, results[index].get_stdout())\n",
    "    cloud_result.save_files('transmembrane_results/peptide_row'+str(index))\n",
    "    index+=1\n",
    "'''    \n",
    "    \n",
    "'''\n",
    "print(results[0].get_stdout())\n",
    "print(results[1].get_stdout())\n",
    "'''\n",
    "\n",
    "print(\"done!\")"
   ]
  },
  {
   "cell_type": "code",
   "execution_count": null,
   "id": "6b9ad25b-8b1e-45cc-ae77-fbdb54bf854f",
   "metadata": {},
   "outputs": [],
   "source": []
  }
 ],
 "metadata": {
  "kernelspec": {
   "display_name": "Python 3 (ipykernel)",
   "language": "python",
   "name": "python3"
  },
  "language_info": {
   "codemirror_mode": {
    "name": "ipython",
    "version": 3
   },
   "file_extension": ".py",
   "mimetype": "text/x-python",
   "name": "python",
   "nbconvert_exporter": "python",
   "pygments_lexer": "ipython3",
   "version": "3.11.2"
  }
 },
 "nbformat": 4,
 "nbformat_minor": 5
}
