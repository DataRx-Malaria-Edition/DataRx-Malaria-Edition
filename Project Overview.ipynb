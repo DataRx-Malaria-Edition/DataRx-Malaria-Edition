{
 "cells": [
  {
   "cell_type": "markdown",
   "id": "ab64aa27-aeae-4b55-9e81-49f3cad9852c",
   "metadata": {},
   "source": [
    "## Project Overview"
   ]
  },
  {
   "cell_type": "markdown",
   "id": "59314861-0215-4257-81c6-5a69ebd86066",
   "metadata": {},
   "source": [
    "* [Introductory Illustration](#intro)\n",
    "\n",
    "* [Question 1](#section-one)\n",
    "  \r\n",
    "* [Question21](#section-two\n",
    "  )\r\n",
    "    - [Here is a graph](#subsection-on\n",
    "      e)\r\n",
    "    - [Subsection 2](#anything-you-li\n",
    "      ke)\r",
    "Question 3sion](#section-th\n",
    "  \n",
    "* [Question 4](#section-four)\n",
    "  \n",
    "* [Question 5](#section-five)ree)"
   ]
  },
  {
   "cell_type": "code",
   "execution_count": null,
   "id": "85a3d1a9-f90b-4677-b190-caa3c42f5db4",
   "metadata": {},
   "outputs": [],
   "source": []
  }
 ],
 "metadata": {
  "kernelspec": {
   "display_name": "Python 3 (ipykernel)",
   "language": "python",
   "name": "python3"
  },
  "language_info": {
   "codemirror_mode": {
    "name": "ipython",
    "version": 3
   },
   "file_extension": ".py",
   "mimetype": "text/x-python",
   "name": "python",
   "nbconvert_exporter": "python",
   "pygments_lexer": "ipython3",
   "version": "3.11.2"
  }
 },
 "nbformat": 4,
 "nbformat_minor": 5
}
