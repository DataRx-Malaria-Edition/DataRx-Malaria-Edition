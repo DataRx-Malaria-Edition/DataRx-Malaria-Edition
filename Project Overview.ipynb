{
 "cells": [
  {
   "cell_type": "markdown",
   "id": "ab64aa27-aeae-4b55-9e81-49f3cad9852c",
   "metadata": {},
   "source": [
    "## Project Overview\n",
    "Katherine Floyd is a  doctoral candidate at Washington University in St. Louis. \n",
    "\n",
    "She is studying a parasite called Plasmodium, which causes malaria. \n",
    "\n",
    "In her research, she focuses on a specific protein in Plasmodium called Signal Peptide Peptidase (SPP). \n",
    "\n",
    "SPP is an enzyme that cuts proteins in a part of the cell called the ER membrane. \n",
    "\n",
    "It plays a role in processing signal peptides and helping the cell deal with stress. \n",
    "\n",
    "Previous studies have found substances that can stop SPP from working, and Katherine's lab has discovered that SPP is crucial for the parasite's survival. \n",
    "\n",
    "This makes SPP an interesting target for developing new drugs to fight malaria and studying it further. \n",
    "\n",
    "One of Katherine's main goals is to identify other proteins that interact with SPP by using a technique called co-immunoprecipitation. \n",
    "\n",
    "This will help her team understand SPP's role in the cell better and find more proteins that it affects."
   ]
  },
  {
   "cell_type": "markdown",
   "id": "59314861-0215-4257-81c6-5a69ebd86066",
   "metadata": {},
   "source": [
    "## Table of Contents\n",
    "\n",
    "* [Introductory Illustration](DataRxMalariaEdition.ipynb)\r\n",
    "* [Question 1](DataRxMalariaEdition.ipynb)\r\n",
    "* [Question 2](compare-protein-modifications.ipynb)\r\n",
    "* [Question 3](go-terms.ipynb)\r\n",
    "* [Question 4](DataRxMalariaEdition_danner_notebook.ipynb)\r\n",
    "* [Questioipynb)\r\n",
    "ee)"
   ]
  },
  {
   "cell_type": "code",
   "execution_count": null,
   "id": "85a3d1a9-f90b-4677-b190-caa3c42f5db4",
   "metadata": {},
   "outputs": [],
   "source": []
  },
  {
   "cell_type": "code",
   "execution_count": null,
   "id": "98658fcf-d93c-4e54-8c32-e82eea7f6cb6",
   "metadata": {},
   "outputs": [],
   "source": []
  }
 ],
 "metadata": {
  "kernelspec": {
   "display_name": "Python 3 (ipykernel)",
   "language": "python",
   "name": "python3"
  },
  "language_info": {
   "codemirror_mode": {
    "name": "ipython",
    "version": 3
   },
   "file_extension": ".py",
   "mimetype": "text/x-python",
   "name": "python",
   "nbconvert_exporter": "python",
   "pygments_lexer": "ipython3",
   "version": "3.11.2"
  }
 },
 "nbformat": 4,
 "nbformat_minor": 5
}
