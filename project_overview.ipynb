{
 "cells": [
  {
   "cell_type": "markdown",
   "id": "ab64aa27-aeae-4b55-9e81-49f3cad9852c",
   "metadata": {},
   "source": [
    "## Project Overview\n",
    "Katherine Floyd is a  doctoral candidate at Washington University in St. Louis. \n",
    "\n",
    "She is studying a parasite called Plasmodium, which causes malaria. \n",
    "\n",
    "In her research, she focuses on a specific protein in Plasmodium called Signal Peptide Peptidase (SPP). \n",
    "\n",
    "SPP is an enzyme that cuts proteins in a part of the cell called the ER membrane. \n",
    "\n",
    "It plays a role in processing signal peptides and helping the cell deal with stress. \n",
    "\n",
    "Previous studies have found substances that can stop SPP from working, and Katherine's lab has discovered that SPP is crucial for the parasite's survival. \n",
    "\n",
    "This makes SPP an interesting target for developing new drugs to fight malaria and studying it further. \n",
    "\n",
    "One of Katherine's main goals is to identify other proteins that interact with SPP by using a technique called co-immunoprecipitation. \n",
    "\n",
    "This will help her team understand SPP's role in the cell better and find more proteins that it affects."
   ]
  },
  {
   "cell_type": "markdown",
   "id": "84df18fc-f1d6-449b-91c6-dfc692bb9498",
   "metadata": {},
   "source": [
    "## Table of Contents\n",
    "\n",
    "* [Introductory Illustration](question_1_enriched_proteins.ipynbn)\n",
    "* [Question 1](question_1_enriched_proteins.ipynbn)\n",
    "* [Question 2](question_2_go_termsns.ipynb)\n",
    "* [Question 3](question_3_protein_mods.ipynb)\n",
    "* [Question 5 a](question_5a_transmembrane_data_collection.ipynb)\n",
    "* [Question 5 b](question_5b_transmembrane_data_compiler.ipynb)!!!!!"
   ]
  },
  {
   "cell_type": "code",
   "execution_count": null,
   "id": "b7ae4071-b59c-41b9-b210-f5898b038bf3",
   "metadata": {},
   "outputs": [],
   "source": []
  }
 ],
 "metadata": {
  "kernelspec": {
   "display_name": "Python 3 (ipykernel)",
   "language": "python",
   "name": "python3"
  },
  "language_info": {
   "codemirror_mode": {
    "name": "ipython",
    "version": 3
   },
   "file_extension": ".py",
   "mimetype": "text/x-python",
   "name": "python",
   "nbconvert_exporter": "python",
   "pygments_lexer": "ipython3",
   "version": "3.11.2"
  }
 },
 "nbformat": 4,
 "nbformat_minor": 5
}
