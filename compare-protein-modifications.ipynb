{
 "cells": [
  {
   "cell_type": "code",
   "execution_count": 2,
   "id": "025fb736-7002-4f9e-98e4-5c9cd6d31849",
   "metadata": {
    "pycharm": {
     "is_executing": true
    }
   },
   "outputs": [
    {
     "name": "stdout",
     "output_type": "stream",
     "text": [
      "<class 'pandas.core.frame.DataFrame'>\n",
      "RangeIndex: 19264 entries, 0 to 19263\n",
      "Data columns (total 19 columns):\n",
      " #   Column                                Non-Null Count  Dtype  \n",
      "---  ------                                --------------  -----  \n",
      " 0   Experiment name                       19264 non-null  object \n",
      " 1   Biological sample category            19264 non-null  object \n",
      " 2   Protein group                         19264 non-null  object \n",
      " 3   Protein accession number              19264 non-null  object \n",
      " 4   Protein name                          19264 non-null  object \n",
      " 5   Protein identification probability    19264 non-null  float64\n",
      " 6   Protein percentage of total spectra   19264 non-null  float64\n",
      " 7   Number of unique peptides             19264 non-null  int64  \n",
      " 8   Number of unique spectra              19264 non-null  int64  \n",
      " 9   Number of total spectra               19264 non-null  int64  \n",
      " 10  Peptide sequence                      19264 non-null  object \n",
      " 11  Previous amino acid                   19264 non-null  object \n",
      " 12  Next amino acid                       19264 non-null  object \n",
      " 13  Peptide identification probability    19264 non-null  float64\n",
      " 14  Modifications identified by spectrum  6672 non-null   object \n",
      " 15  Peptide start index                   19264 non-null  int64  \n",
      " 16  Peptide stop index                    19264 non-null  int64  \n",
      " 17  Unnamed: 17                           13689 non-null  float64\n",
      " 18  Normalized protein percentage         19264 non-null  float64\n",
      "dtypes: float64(5), int64(5), object(9)\n",
      "memory usage: 2.8+ MB\n"
     ]
    }
   ],
   "source": [
    "import numpy as np\n",
    "import pandas as pd\n",
    "import seaborn as sns\n",
    "import matplotlib.pyplot as plt\n",
    "data = pd.read_excel('Malaria_Research_Data.xlsx', header=0)\n",
    "total_spectra = data.groupby('Experiment name')['Protein percentage of total spectra'].sum()\n",
    "data['Normalized protein percentage'] = (data['Protein percentage of total spectra']/data['Experiment name'].map(total_spectra))*100\n",
    "data.info()"
   ]
  },
  {
   "cell_type": "code",
   "execution_count": 7,
   "id": "cbb88b23-25b3-431a-b795-dd2616e66b16",
   "metadata": {},
   "outputs": [
    {
     "name": "stdout",
     "output_type": "stream",
     "text": [
      "protein_mods_data dataset\n",
      "\n",
      "<class 'pandas.core.frame.DataFrame'>\n",
      "RangeIndex: 19264 entries, 0 to 19263\n",
      "Data columns (total 4 columns):\n",
      " #   Column                                Non-Null Count  Dtype \n",
      "---  ------                                --------------  ----- \n",
      " 0   Biological sample category            19264 non-null  object\n",
      " 1   Protein accession number              19264 non-null  object\n",
      " 2   Peptide sequence                      19264 non-null  object\n",
      " 3   Modifications identified by spectrum  6672 non-null   object\n",
      "dtypes: object(4)\n",
      "memory usage: 602.1+ KB\n",
      "None\n",
      "\n",
      "\n",
      "\n",
      "protein_mods_spp data sub-set\n",
      "\n",
      "<class 'pandas.core.frame.DataFrame'>\n",
      "Index: 9462 entries, 3414 to 19263\n",
      "Data columns (total 4 columns):\n",
      " #   Column                                Non-Null Count  Dtype \n",
      "---  ------                                --------------  ----- \n",
      " 0   Biological sample category            9462 non-null   object\n",
      " 1   Protein accession number              9462 non-null   object\n",
      " 2   Peptide sequence                      9462 non-null   object\n",
      " 3   Modifications identified by spectrum  3341 non-null   object\n",
      "dtypes: object(4)\n",
      "memory usage: 369.6+ KB\n",
      "None\n",
      "\n",
      "\n",
      "\n",
      "protein_mods_nat data sub-set\n",
      "\n",
      "<class 'pandas.core.frame.DataFrame'>\n",
      "Index: 9802 entries, 0 to 11962\n",
      "Data columns (total 4 columns):\n",
      " #   Column                                Non-Null Count  Dtype \n",
      "---  ------                                --------------  ----- \n",
      " 0   Biological sample category            9802 non-null   object\n",
      " 1   Protein accession number              9802 non-null   object\n",
      " 2   Peptide sequence                      9802 non-null   object\n",
      " 3   Modifications identified by spectrum  3331 non-null   object\n",
      "dtypes: object(4)\n",
      "memory usage: 382.9+ KB\n",
      "None\n"
     ]
    }
   ],
   "source": [
    "# collect protein modification columns from base dataset\n",
    "protein_mods_data = data[['Biological sample category', 'Protein accession number', 'Peptide sequence', 'Modifications identified by spectrum']]\n",
    "print(f\"protein_mods_data dataset\\n\")\n",
    "print(protein_mods_data.info())\n",
    "print(f\"\\n\\n\")\n",
    "\n",
    "# create subset of protein_mods for SPP\n",
    "protein_mods_spp = protein_mods_data[protein_mods_data['Biological sample category'] == 'SPP']\n",
    "print(f\"protein_mods_spp data sub-set\\n\")\n",
    "print(protein_mods_spp.info())\n",
    "print(f\"\\n\\n\")\n",
    "\n",
    "# create subset of protein_mods for SPP\n",
    "protein_mods_nat = protein_mods_data[protein_mods_data['Biological sample category'] == 'NAT']\n",
    "print(f\"protein_mods_nat data sub-set\\n\")\n",
    "print(protein_mods_nat.info())"
   ]
  },
  {
   "cell_type": "code",
   "execution_count": 10,
   "id": "fbc202ae-4db6-48e5-8197-9371ca4298f7",
   "metadata": {},
   "outputs": [
    {
     "name": "stdout",
     "output_type": "stream",
     "text": [
      "The total number of modificaitons for SPP: 3341\n",
      "\n",
      "The number of SPP modfications identified by spectrum:\n",
      "\n",
      "Modifications identified by spectrum\n",
      "Carbamidomethyl (+57)                                                                   1039\n",
      "Deamidated (+1)                                                                          922\n",
      "Acetyl (+42)                                                                              77\n",
      "Deamidated (+1), Carbamidomethyl (+57)                                                    39\n",
      "Oxidation (+16)                                                                          549\n",
      "Oxidation (+16), Acetyl (+42)                                                             29\n",
      "Carbamidomethyl (+57), Carbamidomethyl (+57)                                             172\n",
      "Deamidated (+1), Deamidated (+1)                                                          94\n",
      "Carbamidomethyl (+57), Deamidated (+1)                                                    60\n",
      "Acetyl (+42), Deamidated (+1)                                                             59\n",
      "Deamidated (+1), Deamidated (+1), Deamidated (+1)                                          8\n",
      "Carbamidomethyl (+57), Deamidated (+1), Carbamidomethyl (+57)                              5\n",
      "Oxidation (+16), Carbamidomethyl (+57)                                                    50\n",
      "Deamidated (+1), Carbamidomethyl (+57), Carbamidomethyl (+57)                             10\n",
      "Deamidated (+1), Oxidation (+16)                                                          21\n",
      "Carbamidomethyl (+57), Oxidation (+16)                                                    46\n",
      "Carbamidomethyl (+57), Carbamidomethyl (+57), Oxidation (+16)                              3\n",
      "Oxidation (+16), Deamidated (+1), Deamidated (+1)                                          1\n",
      "Deamidated (+1), Deamidated (+1), Deamidated (+1), Deamidated (+1)                         2\n",
      "Carbamidomethyl (+57), Carbamidomethyl (+57), Carbamidomethyl (+57)                        5\n",
      "Oxidation (+16), Deamidated (+1)                                                          36\n",
      "Oxidation (+16), Oxidation (+16)                                                          45\n",
      "Oxidation (+16), Oxidation (+16), Deamidated (+1)                                          9\n",
      "Acetyl (+42), Carbamidomethyl (+57)                                                        4\n",
      "Acetyl (+42), Oxidation (+16)                                                              4\n",
      "Oxidation (+16), Carbamidomethyl (+57), Deamidated (+1), Carbamidomethyl (+57)             1\n",
      "Oxidation (+16), Carbamidomethyl (+57), Carbamidomethyl (+57)                              3\n",
      "Deamidated (+1), Carbamidomethyl (+57), Deamidated (+1)                                    4\n",
      "Deamidated (+1), Deamidated (+1), Carbamidomethyl (+57), Deamidated (+1)                   1\n",
      "Deamidated (+1), Deamidated (+1), Oxidation (+16)                                          5\n",
      "Carbamidomethyl (+57), Deamidated (+1), Carbamidomethyl (+57), Carbamidomethyl (+57)       1\n",
      "Oxidation (+16), Oxidation (+16), Oxidation (+16)                                          1\n",
      "Carbamidomethyl (+57), Deamidated (+1), Deamidated (+1)                                    2\n",
      "Deamidated (+1), Carbamidomethyl (+57), Deamidated (+1), Carbamidomethyl (+57)             1\n",
      "Deamidated (+1), Oxidation (+16), Carbamidomethyl (+57)                                    2\n",
      "Acetyl (+42), Deamidated (+1), Deamidated (+1)                                             9\n",
      "Carbamidomethyl (+57), Carbamidomethyl (+57), Deamidated (+1)                              3\n",
      "Deamidated (+1), Carbamidomethyl (+57), Oxidation (+16)                                    1\n",
      "Oxidation (+16), Carbamidomethyl (+57), Deamidated (+1)                                    3\n",
      "Oxidation (+16), Acetyl (+42), Deamidated (+1)                                             2\n",
      "Oxidation (+16), Deamidated (+1), Carbamidomethyl (+57)                                    1\n",
      "Deamidated (+1), Deamidated (+1), Carbamidomethyl (+57)                                    1\n",
      "Oxidation (+16), Deamidated (+1), Oxidation (+16)                                          5\n",
      "Acetyl (+42), Carbamidomethyl (+57), Oxidation (+16)                                       2\n",
      "Carbamidomethyl (+57), Oxidation (+16), Carbamidomethyl (+57)                              2\n",
      "Deamidated (+1), Deamidated (+1), Deamidated (+1), Oxidation (+16)                         1\n",
      "Oxidation (+16), Carbamidomethyl (+57), Oxidation (+16)                                    1\n",
      "Name: count, dtype: int64\n"
     ]
    }
   ],
   "source": [
    "# count of `Modifications identified by spectrum` for SPP\n",
    "spp_modifications = protein_mods_spp['Modifications identified by spectrum']\n",
    "print(f\"The total number of modificaitons for SPP:\", spp_modifications.count())\n",
    "print(f\"\\nThe number of SPP modfications identified by spectrum:\\n\")\n",
    "print(spp_modifications.value_counts(sort = False))"
   ]
  },
  {
   "cell_type": "code",
   "execution_count": 11,
   "id": "b02a10e6-3b60-4772-942f-ce5103f0e03c",
   "metadata": {},
   "outputs": [
    {
     "name": "stdout",
     "output_type": "stream",
     "text": [
      "The total number of modificaitons for NAT: 3331\n",
      "\n",
      "The number of NAT modfications identified by spectrum:\n",
      "\n",
      "Modifications identified by spectrum\n",
      "Carbamidomethyl (+57), Carbamidomethyl (+57)                                                                   147\n",
      "Carbamidomethyl (+57)                                                                                          971\n",
      "Acetyl (+42)                                                                                                    90\n",
      "Oxidation (+16), Acetyl (+42)                                                                                   19\n",
      "Deamidated (+1)                                                                                                979\n",
      "Deamidated (+1), Carbamidomethyl (+57)                                                                          44\n",
      "Deamidated (+1), Deamidated (+1)                                                                               103\n",
      "Oxidation (+16), Carbamidomethyl (+57), Deamidated (+1)                                                         10\n",
      "Carbamidomethyl (+57), Deamidated (+1)                                                                          63\n",
      "Oxidation (+16)                                                                                                567\n",
      "Carbamidomethyl (+57), Oxidation (+16)                                                                          21\n",
      "Carbamidomethyl (+57), Carbamidomethyl (+57), Carbamidomethyl (+57)                                              6\n",
      "Deamidated (+1), Deamidated (+1), Deamidated (+1)                                                               16\n",
      "Carbamidomethyl (+57), Carbamidomethyl (+57), Deamidated (+1)                                                    4\n",
      "Acetyl (+42), Deamidated (+1)                                                                                   38\n",
      "Oxidation (+16), Deamidated (+1)                                                                                44\n",
      "Oxidation (+16), Oxidation (+16)                                                                                47\n",
      "Oxidation (+16), Carbamidomethyl (+57)                                                                          41\n",
      "Carbamidomethyl (+57), Carbamidomethyl (+57), Carbamidomethyl (+57), Deamidated (+1)                             5\n",
      "Oxidation (+16), Deamidated (+1), Oxidation (+16), Deamidated (+1)                                               1\n",
      "Deamidated (+1), Oxidation (+16)                                                                                30\n",
      "Deamidated (+1), Carbamidomethyl (+57), Deamidated (+1)                                                          3\n",
      "Deamidated (+1), Oxidation (+16), Deamidated (+1)                                                                3\n",
      "Carbamidomethyl (+57), Deamidated (+1), Deamidated (+1), Deamidated (+1)                                         2\n",
      "Deamidated (+1), Deamidated (+1), Deamidated (+1), Deamidated (+1), Deamidated (+1)                              1\n",
      "Oxidation (+16), Oxidation (+16), Deamidated (+1)                                                               16\n",
      "Deamidated (+1), Carbamidomethyl (+57), Carbamidomethyl (+57)                                                    6\n",
      "Carbamidomethyl (+57), Carbamidomethyl (+57), Carbamidomethyl (+57), Carbamidomethyl (+57), Deamidated (+1)      2\n",
      "Oxidation (+16), Oxidation (+16), Carbamidomethyl (+57)                                                          1\n",
      "Oxidation (+16), Acetyl (+42), Oxidation (+16)                                                                   1\n",
      "Oxidation (+16), Acetyl (+42), Deamidated (+1)                                                                   1\n",
      "Carbamidomethyl (+57), Deamidated (+1), Carbamidomethyl (+57)                                                    5\n",
      "Oxidation (+16), Deamidated (+1), Carbamidomethyl (+57)                                                          4\n",
      "Deamidated (+1), Carbamidomethyl (+57), Deamidated (+1), Carbamidomethyl (+57)                                   1\n",
      "Acetyl (+42), Carbamidomethyl (+57)                                                                              4\n",
      "Oxidation (+16), Deamidated (+1), Oxidation (+16)                                                                3\n",
      "Deamidated (+1), Oxidation (+16), Carbamidomethyl (+57)                                                          4\n",
      "Carbamidomethyl (+57), Deamidated (+1), Deamidated (+1)                                                          2\n",
      "Carbamidomethyl (+57), Carbamidomethyl (+57), Oxidation (+16)                                                    1\n",
      "Deamidated (+1), Carbamidomethyl (+57), Oxidation (+16)                                                          1\n",
      "Acetyl (+42), Deamidated (+1), Deamidated (+1)                                                                   8\n",
      "Deamidated (+1), Deamidated (+1), Carbamidomethyl (+57)                                                          1\n",
      "Deamidated (+1), Deamidated (+1), Oxidation (+16)                                                                7\n",
      "Carbamidomethyl (+57), Oxidation (+16), Oxidation (+16)                                                          2\n",
      "Oxidation (+16), Deamidated (+1), Deamidated (+1)                                                                1\n",
      "Acetyl (+42), Oxidation (+16)                                                                                    2\n",
      "Oxidation (+16), Carbamidomethyl (+57), Carbamidomethyl (+57)                                                    3\n",
      "Name: count, dtype: int64\n"
     ]
    }
   ],
   "source": [
    "# count of `Modifications identified by spectrum` for NAT\n",
    "nat_modifications = protein_mods_nat['Modifications identified by spectrum']\n",
    "print(f\"The total number of modificaitons for NAT:\", nat_modifications.count())\n",
    "print(f\"\\nThe number of NAT modfications identified by spectrum:\\n\")\n",
    "print(nat_modifications.value_counts(sort = False))"
   ]
  },
  {
   "cell_type": "code",
   "execution_count": 12,
   "id": "fe5f71b3-8290-46ea-ada2-3260238ae0a5",
   "metadata": {},
   "outputs": [
    {
     "data": {
      "text/plain": [
       "<Axes: xlabel='count'>"
      ]
     },
     "execution_count": 12,
     "metadata": {},
     "output_type": "execute_result"
    },
    {
     "data": {
      "image/png": "[encoded data removed]",
      "text/plain": [
       "<Figure size 640x480 with 1 Axes>"
      ]
     },
     "metadata": {},
     "output_type": "display_data"
    }
   ],
   "source": [
    "# sns.violinplot(x='Protein accession number', y=protein_mods_spp['Modifications identified by spectrum'].value_counts(), hue='Modifications identified by spectrum', data=protein_mods_spp)\n",
    "# sns.violinplot(x = protein_mods_data['Modifications identified by spectrum'].value_counts(), y = protein_mods_data['Modifications identified by spectrum'])\n",
    "sns.violinplot(x = protein_mods_spp['Modifications identified by spectrum'].value_counts(sort = False), inner=\"stick\", cut = 0)\n",
    "# sns.violinplot(x='Protein accession number', y=protein_mods_spp['Modifications identified by spectrum'].value_counts(), hue='Modifications identified by spectrum', data=protein_mods_spp)"
   ]
  },
  {
   "cell_type": "code",
   "execution_count": 13,
   "id": "e2cfd974-e2d3-457d-b6db-5723660fed36",
   "metadata": {},
   "outputs": [
    {
     "data": {
      "text/plain": [
       "<Axes: xlabel='proportion'>"
      ]
     },
     "execution_count": 13,
     "metadata": {},
     "output_type": "execute_result"
    },
    {
     "data": {
      "image/png": "[encoded data removed]",
      "text/plain": [
       "<Figure size 640x480 with 1 Axes>"
      ]
     },
     "metadata": {},
     "output_type": "display_data"
    }
   ],
   "source": [
    "sns.violinplot(x = protein_mods_nat['Modifications identified by spectrum'].value_counts(normalize=True, sort=False), inner=\"stick\", cut = 0)"
   ]
  },
  {
   "cell_type": "code",
   "execution_count": 14,
   "id": "05ba44cb-ab7f-4d7d-99e3-12e2884acd14",
   "metadata": {},
   "outputs": [
    {
     "data": {
      "text/plain": [
       "<Axes: xlabel='count', ylabel='Biological sample category'>"
      ]
     },
     "execution_count": 14,
     "metadata": {},
     "output_type": "execute_result"
    },
    {
     "data": {
      "image/png": "[encoded data removed]",
      "text/plain": [
       "<Figure size 640x480 with 1 Axes>"
      ]
     },
     "metadata": {},
     "output_type": "display_data"
    }
   ],
   "source": [
    "sns.violinplot(data = protein_mods_data, y = protein_mods_data['Biological sample category'], x = protein_mods_data['Modifications identified by spectrum'].value_counts(), cut = 0, bw = .15, split=True) "
   ]
  },
  {
   "cell_type": "code",
   "execution_count": null,
   "id": "6264bf20-b640-4e57-8565-271e9f5accbd",
   "metadata": {},
   "outputs": [],
   "source": []
  }
 ],
 "metadata": {
  "kernelspec": {
   "display_name": "Python 3 (ipykernel)",
   "language": "python",
   "name": "python3"
  },
  "language_info": {
   "codemirror_mode": {
    "name": "ipython",
    "version": 3
   },
   "file_extension": ".py",
   "mimetype": "text/x-python",
   "name": "python",
   "nbconvert_exporter": "python",
   "pygments_lexer": "ipython3",
   "version": "3.11.3"
  }
 },
 "nbformat": 4,
 "nbformat_minor": 5
}
