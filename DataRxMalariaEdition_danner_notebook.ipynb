{
 "cells": [
  {
   "cell_type": "markdown",
   "id": "827c0d8b-eda1-4f1d-9d3c-6ca1bfbd41eb",
   "metadata": {},
   "source": [
    "# Keywords\n",
    "\n",
    "- **Peptides:** Peptides are short chains of amino acids that are the building blocks of proteins.\n",
    "- **Previous amino acid:** The \"previous amino acid\" refers to the amino acid that comes before a specific amino acid in a peptide sequence.\n",
    "- **K or R:** These are specific amino acids.\n",
    "- **K:** K stands for lysine\n",
    "- **R:** R stands for arginine\n",
    "- **SPP:** Stands for `Plasmodium proteins signal peptide peptidase` - is an enzyme found in malaria-causing parasites called Plasmodium. Its job is to remove specific \"signal peptides\" from newly made proteins as they are being processed inside the parasite's cells.\n",
    "- **NAT:** stands for `N-acetyltransferase` - N-acetyltransferase (NAT) is an enzyme that helps modify different substances inside living organisms. It transfers a small molecule called an acetyl group to other molecules, changing their properties... NATs are involved in a wide range of biological processes, including the metabolism of drugs, toxins, and endogenous compounds in organisms. They play a role in detoxification by modifying and facilitating the elimination of certain substances from the body.\n",
    "- **Signal Peptides:** Signal peptides are like addresses that guide the proteins to the right place within the parasite's cells. Once the proteins reach their destination, SPP cuts off these signal peptides, allowing the proteins to function properly.\n",
    "- **Research question 4:** In what peptides does the previous amino acid not = K or R... does this differ between SPP vs. NAT?"
   ]
  },
  {
   "cell_type": "code",
   "execution_count": 2,
   "id": "025fb736-7002-4f9e-98e4-5c9cd6d31849",
   "metadata": {},
   "outputs": [
    {
     "name": "stdout",
     "output_type": "stream",
     "text": [
      "<class 'pandas.core.frame.DataFrame'>\n",
      "RangeIndex: 19264 entries, 0 to 19263\n",
      "Data columns (total 19 columns):\n",
      " #   Column                                Non-Null Count  Dtype  \n",
      "---  ------                                --------------  -----  \n",
      " 0   Experiment name                       19264 non-null  object \n",
      " 1   Biological sample category            19264 non-null  object \n",
      " 2   Protein group                         19264 non-null  object \n",
      " 3   Protein accession number              19264 non-null  object \n",
      " 4   Protein name                          19264 non-null  object \n",
      " 5   Protein identification probability    19264 non-null  float64\n",
      " 6   Protein percentage of total spectra   19264 non-null  float64\n",
      " 7   Number of unique peptides             19264 non-null  int64  \n",
      " 8   Number of unique spectra              19264 non-null  int64  \n",
      " 9   Number of total spectra               19264 non-null  int64  \n",
      " 10  Peptide sequence                      19264 non-null  object \n",
      " 11  Previous amino acid                   19264 non-null  object \n",
      " 12  Next amino acid                       19264 non-null  object \n",
      " 13  Peptide identification probability    19264 non-null  float64\n",
      " 14  Modifications identified by spectrum  6672 non-null   object \n",
      " 15  Spectrum charge                       13689 non-null  float64\n",
      " 16  Peptide start index                   19264 non-null  int64  \n",
      " 17  Peptide stop index                    19264 non-null  int64  \n",
      " 18  Normalized protein percentage         19264 non-null  float64\n",
      "dtypes: float64(5), int64(5), object(9)\n",
      "memory usage: 2.8+ MB\n"
     ]
    }
   ],
   "source": [
    "import pandas as pd\n",
    "import seaborn as sns\n",
    "import matplotlib.pyplot as plt\n",
    "import os\n",
    "\n",
    "# # Load the dataset\n",
    "# data = pd.read_excel('Malaria_Research_Data.xlsx', header=0)\n",
    "\n",
    "# # Step 2:Calculate the total protein spectra in each sample\n",
    "# total_spectra = data.groupby('Experiment name')['Protein percentage of total spectra'].sum()\n",
    "\n",
    "# # Calculate the normalized protein percentage\n",
    "# data['Normalized protein percentage'] = (data['Protein percentage of total spectra'] / data['Experiment name'].map(total_spectra)) * 100\n",
    "\n",
    "# # Print the modified dataset\n",
    "# print(data)\n",
    "\n",
    "# # Perform further analysis or visualization as desired\n",
    "# # For example, you can create a bar plot to compare the normalized protein percentage between SPP and NAT samples\n",
    "# sns.barplot(data=data, x='Biological sample category', y='Normalized protein percentage')\n",
    "# plt.show()\n",
    "\n",
    "data = pd.read_excel('Malaria_Research_Data.xlsx', header=0)\n",
    "total_spectra = data.groupby('Biological sample category')['Protein percentage of total spectra'].sum()\n",
    "\n",
    "# Normalize the protein percentages within each group\n",
    "data['Normalized protein percentage'] = data.groupby('Biological sample category')['Protein percentage of total spectra'].transform(lambda x: (x / x.sum()) * 100)\n",
    "\n",
    "data.info()"
   ]
  },
  {
   "cell_type": "code",
   "execution_count": 20,
   "id": "78b53b0c-544d-4a03-9472-f0649d7c896e",
   "metadata": {},
   "outputs": [],
   "source": [
    "relevant_columns = ['Peptide sequence', 'Previous amino acid', 'Biological sample category']\n",
    "filtered_data = data[relevant_columns]"
   ]
  },
  {
   "cell_type": "code",
   "execution_count": 21,
   "id": "9ec31316-2c9b-4143-a5e8-bd4db9dba977",
   "metadata": {},
   "outputs": [],
   "source": [
    "filtered_data = filtered_data[(filtered_data['Previous amino acid'] != 'K') & (filtered_data['Previous amino acid'] != 'R')]\n"
   ]
  },
  {
   "cell_type": "code",
   "execution_count": 22,
   "id": "8464b530-70a9-419f-b83b-de8fb73251d4",
   "metadata": {},
   "outputs": [],
   "source": [
    "grouped_data = filtered_data.groupby('Biological sample category')"
   ]
  },
  {
   "cell_type": "code",
   "execution_count": 23,
   "id": "09a86bf0-3c46-4520-9563-5b79119ff856",
   "metadata": {},
   "outputs": [],
   "source": [
    "for name, group in grouped_data:\n",
    "    if name == 'SPP':\n",
    "        spp_peptides = group['Peptide sequence'].unique()\n",
    "    elif name == 'NAT':\n",
    "        nat_peptides = group['Peptide sequence'].unique()\n",
    "\n",
    "# Find the peptides that differ between SPP and NAT\n",
    "differing_peptides = set(spp_peptides) - set(nat_peptides)"
   ]
  },
  {
   "cell_type": "code",
   "execution_count": 25,
   "id": "fba69a5e-9fab-4794-903e-d92314b7481e",
   "metadata": {},
   "outputs": [
    {
     "name": "stdout",
     "output_type": "stream",
     "text": [
      "Peptides that differ between SPP and NAT:\n",
      "QLQNITVQK\n",
      "VAHNNVLPNVHLHK\n",
      "KINEIINKYSSNK\n",
      "GALDESTPVPSR\n",
      "SNIHTLAEYR\n",
      "AEQFTEDIGVVNKRLLEPVPFVK\n",
      "SGNNVQEEDSTFHVSNLYSETEIK\n",
      "MNEQDYLPIEIK\n",
      "MDELNKEEIVDNINNEQAK\n",
      "LTLTGNGK\n",
      "VLTELGTQITNAFR\n",
      "SGNNVQEEDSTFHVSNLYSETEIKK\n",
      "INNIIINK\n",
      "SNLTAAEEK\n",
      "SSTEKNEVINSNDTR\n",
      "VKNLIENVEIK\n",
      "AHCTEYMNAPK\n",
      "TSEFWPDLDFK\n",
      "PTISVYEDDLFEK\n",
      "INNKYGSK\n",
      "ATSEELKQLR\n",
      "MIGIQEGR\n",
      "ASTEEVSQER\n",
      "MNNLNILFFNNLGENILK\n",
      "SQNNPLSVCVADNLINYDIQNESFR\n",
      "SSVSTLPYIGSK\n",
      "LQNNKLFDNLR\n",
      "SNVLEECIK\n"
     ]
    }
   ],
   "source": [
    "print(\"Peptides that differ between SPP and NAT:\")\n",
    "for peptide in differing_peptides:\n",
    "    print(peptide)"
   ]
  },
  {
   "cell_type": "code",
   "execution_count": null,
   "id": "bcd9df83-601c-4eac-aa89-ef806c10b75b",
   "metadata": {},
   "outputs": [],
   "source": []
  }
 ],
 "metadata": {
  "kernelspec": {
   "display_name": "Python 3 (ipykernel)",
   "language": "python",
   "name": "python3"
  },
  "language_info": {
   "codemirror_mode": {
    "name": "ipython",
    "version": 3
   },
   "file_extension": ".py",
   "mimetype": "text/x-python",
   "name": "python",
   "nbconvert_exporter": "python",
   "pygments_lexer": "ipython3",
   "version": "3.11.2"
  }
 },
 "nbformat": 4,
 "nbformat_minor": 5
}
