{
 "cells": [
  {
   "cell_type": "markdown",
   "id": "d8d1d59b-8994-48e8-9442-d10e07223de9",
   "metadata": {},
   "source": [
    "## Table of Contents\n",
    "- [Research question 5 continued: Are transmembrane domains enriched in the SPP vs. NAT peptides?](#section-one)\n",
    "- [Code Segment 2 for creation of a new file](#section-two)\n",
    "- [Return to Project Table of Contents](project_overview.ipynb)"
   ]
  },
  {
   "cell_type": "markdown",
   "id": "42b401e9-7da1-48bc-9264-028fe0727b8b",
   "metadata": {},
   "source": [
    "<a id=\"section-one\"></a>\n",
    "### Research question 5 continued: Are transmembrane domains enriched in the SPP vs. NAT peptides?\n",
    "\n",
    "#### Purpose of this file\n",
    "\n",
    "Once the full data set has been processed through deepTMHMM computations (transmembrane-domain-comparison) the following segements are used to compile the individual data collections into one directory for ease of processing for insertion into the data .xlsx file\n",
    "\n",
    "#### Method of solution\n",
    "* Locate the .3line files in the processed data\n",
    "* Compile the files into one common directory with cooresponding identification subdirectories\n",
    "* Remove Jupyter duplicates\n",
    "* \n",
    "\n",
    "#### Code Segment 1\n",
    "\n",
    "Run this segment to collect the individual data runs in 'transmembrane_local_directory' and skims off unnecessary files and deposits the information in 'transmembrane_local_compiled'\n",
    "\n",
    "[Return to Table of Contents](#Table-of-Contents)"
   ]
  },
  {
   "cell_type": "code",
   "execution_count": 9,
   "id": "80eb7e86-2c8f-4820-83de-b1ec24db9e29",
   "metadata": {},
   "outputs": [],
   "source": [
    "import re\n",
    "import os\n",
    "import shutil\n",
    "\n",
    "source_directory = 'transmembrane_local_directory'\n",
    "destination_directory = 'transmembrane_local_compiled'\n",
    "\n",
    "for root, dirs, files in os.walk(source_directory):\n",
    "    for file in files:        \n",
    "        if file.endswith('.3line'):\n",
    "            last_dir_index = root.rfind('/')\n",
    "            destination_sub = root[last_dir_index + 1:]\n",
    "            \n",
    "            if destination_sub != \".ipynb_checkpoints\":\n",
    "                origin = os.path.join(root, file)\n",
    "                final_sub = os.path.join(destination_directory, destination_sub)\n",
    "                final_path = os.path.join(final_sub, file)\n",
    "\n",
    "                dest_directory = os.path.dirname(final_path)\n",
    "                os.makedirs(dest_directory, exist_ok=True)\n",
    "\n",
    "                shutil.copy(origin, final_path)\n",
    "                \n",
    "            \n",
    "            \n"
   ]
  },
  {
   "cell_type": "markdown",
   "id": "ee0491f3-8d69-43f8-ae11-cf41aaba2615",
   "metadata": {},
   "source": [
    "![3line](images/compiled_files.png)"
   ]
  },
  {
   "cell_type": "markdown",
   "id": "b2efe280-503b-45ae-bd6b-4a3c94b040b6",
   "metadata": {},
   "source": [
    "![3line](images/gSpreadsheet.png)"
   ]
  },
  {
   "cell_type": "markdown",
   "id": "08a4a77e-d6d8-4d77-929b-152dabdc679e",
   "metadata": {},
   "source": [
    "<a id=\"section-two\"></a>\n",
    "## Code Segment 2\n",
    "\n",
    "After compiling the peptide information in Code Segment 1, the following can be used to take in the source Excel file, make a copy, and add two additional columns representing the new information.\n",
    "\n",
    "[Return to Table of Contents](#Table-of-Contents)"
   ]
  },
  {
   "cell_type": "code",
   "execution_count": 13,
   "id": "28440c63-bbe5-4e4f-9d5c-c590713252c7",
   "metadata": {},
   "outputs": [],
   "source": [
    "import re\n",
    "import os\n",
    "import pandas as pd\n",
    "\n",
    "# Function to read the contents of a TMHMM 3line file\n",
    "# Returns array with the type of sequence and the I, O, M, S tags\n",
    "def read_text_file(file_path):\n",
    "    with open(file_path, 'r') as file:\n",
    "        \n",
    "        lines = file.read().splitlines()\n",
    "        result = re.search(r'\\|\\s*(\\S+)', lines[0])\n",
    "        if result:\n",
    "            tag = result.group(1)\n",
    "        else:\n",
    "            tag = \"ERR\"\n",
    "     \n",
    "        a_acid_category = lines[2]\n",
    "        \n",
    "        return tag, a_acid_category\n",
    "        \n",
    "# Directory containing the text files\n",
    "directory = 'transmembrane_local_compiled'\n",
    "\n",
    "# Path to the existing Excel file\n",
    "excel_file_path_source = 'output.xlsx'\n",
    "excel_file_path_destination = 'post_transmembrane.xlsx'\n",
    "\n",
    "# Create a list to store the contents of all text files\n",
    "extracted_info = []\n",
    "\n",
    "# Loop through each text file in the directory\n",
    "for root, dirs, files in os.walk(directory):\n",
    "    for file in files:\n",
    "        \n",
    "        if file.endswith('.3line'):\n",
    "            \n",
    "            content = []\n",
    "            file_path = os.path.join(root, file)\n",
    "            # print(\"Current file: \" + file_path)\n",
    "            tag, amino_acid_category = read_text_file(file_path)\n",
    "\n",
    "            match = re.search(r\"_row(\\d+)\", file_path)\n",
    "\n",
    "            if match:\n",
    "                row_num = str(int(match.group(1)))\n",
    "            else:\n",
    "                row_num = 0\n",
    "\n",
    "            content.append(row_num)\n",
    "            content.append(tag)\n",
    "            content.append(amino_acid_category)\n",
    "\n",
    "            pattern = r'checkpoints'\n",
    "            duplicated = re.search(pattern, file_path)\n",
    "\n",
    "            extracted_info.append(content) # array of [row_num, TM/GLOB/SP/etc., I/M/O/etc.]\n",
    "\n",
    "# Read the existing Excel file into a DataFrame\n",
    "new_headers = [\"Tag\", \"Transmembrane Tag\"]               \n",
    "df = pd.read_excel(excel_file_path_source)\n",
    "\n",
    "# Prepare extracted info for insertion into dataframe by sorting the values and removing duplicates\n",
    "tags_column = [\"not recorded\"] * len(df)\n",
    "transmembrane_column = [\"not recorded\"] * len(df)\n",
    "\n",
    "for record in extracted_info:\n",
    "    tags_column[int(record[0])] = record[1]\n",
    "    transmembrane_column[int(record[0])] = record[2]\n",
    "\n",
    "df[new_headers[0]] = tags_column\n",
    "df[new_headers[1]] = transmembrane_column\n",
    "\n",
    "# Save the updated DataFrame to an Excel file\n",
    "df.to_excel(excel_file_path_destination, index=False)"
   ]
  },
  {
   "cell_type": "code",
   "execution_count": null,
   "id": "5bd61e3f-752d-4d0e-b94f-18e95111f1e1",
   "metadata": {},
   "outputs": [],
   "source": []
  }
 ],
 "metadata": {
  "kernelspec": {
   "display_name": "Python 3 (ipykernel)",
   "language": "python",
   "name": "python3"
  },
  "language_info": {
   "codemirror_mode": {
    "name": "ipython",
    "version": 3
   },
   "file_extension": ".py",
   "mimetype": "text/x-python",
   "name": "python",
   "nbconvert_exporter": "python",
   "pygments_lexer": "ipython3",
   "version": "3.11.2"
  }
 },
 "nbformat": 4,
 "nbformat_minor": 5
}
